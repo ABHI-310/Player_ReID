{
 "cells": [
  {
   "cell_type": "code",
   "execution_count": 1,
   "id": "7fed85a8-e26c-40c2-82b5-2df7ac773a14",
   "metadata": {},
   "outputs": [],
   "source": [
    "import cv2\n",
    "import os\n",
    "from tqdm import tqdm"
   ]
  },
  {
   "cell_type": "code",
   "execution_count": 2,
   "id": "0b1a9452-5bfd-4b04-a265-fe0251209c2a",
   "metadata": {},
   "outputs": [],
   "source": [
    "from pathlib import Path\n",
    "from PIL import Image"
   ]
  },
  {
   "cell_type": "code",
   "execution_count": 3,
   "id": "7e2a6d2e-bbae-4ab4-9c6d-323d0ca02572",
   "metadata": {},
   "outputs": [
    {
     "name": "stdout",
     "output_type": "stream",
     "text": [
      "Broadcast Track source: C:\\Users\\ABHINAV\\Desktop\\player-reid\\broadcast_labels\n",
      "Tacticam Track source: C:\\Users\\ABHINAV\\Desktop\\player-reid\\tacticam_labels\n",
      "Saving crops to: C:\\Users\\ABHINAV\\Desktop\\player-reid\\Output\n"
     ]
    }
   ],
   "source": [
    "BROAD_TRACK_DIR = Path(r\"C:\\Users\\ABHINAV\\Desktop\\player-reid\\broadcast_labels\")  \n",
    "TACTI_TRACK_DIR = Path(r\"C:\\Users\\ABHINAV\\Desktop\\player-reid\\tacticam_labels\")\n",
    "OUTPUT_DIR = Path(r\"C:\\Users\\ABHINAV\\Desktop\\player-reid\\Output\")       \n",
    "# Create output folder if it doesn’t exist\n",
    "#OUTPUT_DIR.mkdir(parents=True, exist_ok=True)\n",
    "\n",
    "print(\"Broadcast Track source:\", BROAD_TRACK_DIR)\n",
    "print(\"Tacticam Track source:\", TACTI_TRACK_DIR)\n",
    "print(\"Saving crops to:\", OUTPUT_DIR)"
   ]
  },
  {
   "cell_type": "markdown",
   "id": "5ce4e134-e2d5-4448-91d8-a5699cf1e0d1",
   "metadata": {},
   "source": [
    "def extract_crops_from_labels(label_folder, video_path, output_root):\n",
    "    cap = cv2.VideoCapture(str(video_path))\n",
    "    frame_cache = {}\n",
    "\n",
    "    print(f\"Opening video: {video_path}\")\n",
    "    cap = cv2.VideoCapture(str(video_path))\n",
    "    ret, test_frame = cap.read()\n",
    "    print(\"Frame loaded:\", ret, \"| Frame shape:\" if ret else \"\", test_frame.shape if ret else \"N/A\")\n",
    "    cap.release()\n",
    "\n",
    "\n",
    "    for label_file in os.listdir(label_folder):\n",
    "        if not label_file.endswith(\".txt\"):\n",
    "            continue\n",
    "\n",
    "        with open(os.path.join(label_folder, label_file), \"r\") as f:\n",
    "            lines = f.readlines()\n",
    "\n",
    "        for line in lines:\n",
    "            parts = line.strip().split()\n",
    "            if len(parts) < 6:\n",
    "                continue  # skip malformed lines\n",
    "            frame_id = int(parts[0])\n",
    "            track_id = parts[1]\n",
    "            x1, y1, x2, y2 = map(int, map(float, parts[2:6]))\n",
    "\n",
    "            # Get frame\n",
    "            if frame_id not in frame_cache:\n",
    "                cap.set(cv2.CAP_PROP_POS_FRAMES, frame_id)\n",
    "                ret, frame = cap.read()\n",
    "                if not ret:\n",
    "                    continue\n",
    "                frame_cache[frame_id] = frame\n",
    "            else:\n",
    "                frame = frame_cache[frame_id]\n",
    "\n",
    "            crop = frame[int(y1):int(y2), int(x1):int(x2)]\n",
    "\n",
    "            # Validate crop\n",
    "            if crop is None or crop.size == 0:\n",
    "                print(f\"⚠️ Empty crop at frame {frame_id} for track {track_id} in {label_file}\")\n",
    "                continue\n",
    "\n",
    "            cam_name = os.path.splitext(label_file)[0]\n",
    "            track_folder = Path(output_root) / cam_name / track_id\n",
    "            track_folder.mkdir(parents=True, exist_ok=True)\n",
    "\n",
    "            crop_filename = track_folder / f\"{frame_id}.jpg\"\n",
    "            cv2.imwrite(str(crop_filename), crop)\n",
    "\n",
    "    cap.release()\n",
    "\n",
    "# === SETUP WITH YOUR CURRENT FOLDER STRUCTURE ===\n",
    "label_folder = Path(r\"C:\\Users\\ABHINAV\\Desktop\\player-reid\\botsort_broadcast\\labels\")         \n",
    "video_path = Path(r\"C:\\Users\\ABHINAV\\Desktop\\player-reid\\broadcast.avi\")     \n",
    "output_root = Path(r\"C:\\Users\\ABHINAV\\Desktop\\player-reid\\Output\")\n",
    "\n",
    "# === RUN ===\n",
    "extract_crops_from_labels(label_folder, video_path, output_root)\n"
   ]
  },
  {
   "cell_type": "markdown",
   "id": "016b3e7a-8ece-4827-a235-84b073719907",
   "metadata": {},
   "source": [
    "#file_path = r\"C:\\Users\\ABHINAV\\Desktop\\player-reid\\botsort_tacticam\\labels\\tacticam_1.txt\"\n",
    "# tacticam_2.txt, tacticam_3.txt, etc.\n",
    "file_path = r\"C:\\Users\\ABHINAV\\Desktop\\player-reid\\botsort_tacticam\\labels\\tacticam_2.txt\"\n",
    "\n",
    "with open(file_path, \"r\") as f:\n",
    "    lines = f.readlines()\n",
    "    for i, line in enumerate(lines[:5]):\n",
    "        print(f\"Sample line {i+1}:\", line.strip())\n"
   ]
  },
  {
   "cell_type": "markdown",
   "id": "23d1d3df-127a-4c67-a307-5fda39e00c1a",
   "metadata": {},
   "source": [
    "\n",
    "BROAD_TRACK_DIR = Path(r\"C:\\Users\\ABHINAV\\Desktop\\player-reid\\botsort_broadcast\\labels\")\n",
    "BROAD_VIDEO_PATH = Path(r\"C:\\Users\\ABHINAV\\Desktop\\player-reid\\broadcast.mp4\")\n",
    "BROAD_OUTPUT_DIR = Path(r\"C:\\Users\\ABHINAV\\Desktop\\player-reid\\Output\\broadcast\")\n",
    "\n",
    "TACTI_TRACK_DIR = Path(r\"C:\\Users\\ABHINAV\\Desktop\\player-reid\\botsort_tacticam\\labels\")\n",
    "TACTI_VIDEO_PATH = Path(r\"C:\\Users\\ABHINAV\\Desktop\\player-reid\\tacticam.mp4\")\n",
    "TACTI_OUTPUT_DIR = Path(r\"C:\\Users\\ABHINAV\\Desktop\\player-reid\\Output\\tacticam\")\n"
   ]
  },
  {
   "cell_type": "markdown",
   "id": "7ec1a54b-eb6b-4ce8-9924-d3dbce68ef6d",
   "metadata": {},
   "source": [
    "import cv2\n",
    "from pathlib import Path\n",
    "import os\n",
    "from tqdm import tqdm\n",
    "\n",
    "def extract_crops_from_labels(label_folder, video_path, output_root):\n",
    "    label_files = sorted(label_folder.glob(\"*.txt\"))\n",
    "    print(f\"Label files found: {len(label_files)}\")\n",
    "\n",
    "    cap = cv2.VideoCapture(str(video_path))\n",
    "    if not cap.isOpened():\n",
    "        print(\"❌ Failed to open video:\", video_path)\n",
    "        return\n",
    "\n",
    "    frame_cache = {}  # Cache to avoid reading same frame multiple times\n",
    "\n",
    "    for label_file in tqdm(label_files, desc=\"Processing labels\"):\n",
    "        with open(label_file, \"r\") as f:\n",
    "            lines = f.readlines()\n",
    "\n",
    "        for line in lines:\n",
    "            parts = line.strip().split()\n",
    "            if len(parts) != 6:\n",
    "                continue  # skip malformed lines\n",
    "\n",
    "            frame_id = int(parts[0])\n",
    "            x_center, y_center, w, h = map(float, parts[1:5])\n",
    "            track_id = parts[5]\n",
    "\n",
    "            # Read frame if not cached\n",
    "            if frame_id not in frame_cache:\n",
    "                cap.set(cv2.CAP_PROP_POS_FRAMES, frame_id)\n",
    "                success, frame = cap.read()\n",
    "                if not success:\n",
    "                    print(f\"⚠️ Failed to read frame {frame_id}\")\n",
    "                    continue\n",
    "                frame_cache[frame_id] = frame\n",
    "            else:\n",
    "                frame = frame_cache[frame_id]\n",
    "\n",
    "            H, W = frame.shape[:2]\n",
    "\n",
    "            # Convert normalized YOLO box → pixel box\n",
    "            x_center *= W\n",
    "            y_center *= H\n",
    "            w *= W\n",
    "            h *= H\n",
    "\n",
    "            x1 = int(x_center - w / 2)\n",
    "            y1 = int(y_center - h / 2)\n",
    "            x2 = int(x_center + w / 2)\n",
    "            y2 = int(y_center + h / 2)\n",
    "\n",
    "            # Clip to frame bounds\n",
    "            x1, y1 = max(0, x1), max(0, y1)\n",
    "            x2, y2 = min(W - 1, x2), min(H - 1, y2)\n",
    "\n",
    "            crop = frame[y1:y2, x1:x2]\n",
    "            if crop.size == 0:\n",
    "                continue\n",
    "\n",
    "            track_folder = output_root / f\"id_{track_id}\"\n",
    "            track_folder.mkdir(parents=True, exist_ok=True)\n",
    "\n",
    "            crop_filename = track_folder / f\"{frame_id}.jpg\"\n",
    "            cv2.imwrite(str(crop_filename), crop)\n",
    "\n",
    "    cap.release()\n",
    "    print(\"✅ Done extracting crops.\")\n"
   ]
  },
  {
   "cell_type": "markdown",
   "id": "1c84f0a6-f642-42e0-ad73-663fbd5945ce",
   "metadata": {},
   "source": [
    "extract_crops_from_labels(BROAD_TRACK_DIR, BROAD_VIDEO_PATH, BROAD_OUTPUT_DIR)\n",
    "extract_crops_from_labels(TACTI_TRACK_DIR, TACTI_VIDEO_PATH, TACTI_OUTPUT_DIR)"
   ]
  },
  {
   "cell_type": "code",
   "execution_count": 5,
   "id": "06edb78b-3925-41be-acd1-24b0351d6b1d",
   "metadata": {},
   "outputs": [
    {
     "name": "stdout",
     "output_type": "stream",
     "text": [
      "Broadcast Track source: C:\\Users\\ABHINAV\\Desktop\\player-reid\\broadcast_labels\n",
      "Tacticam Track source: C:\\Users\\ABHINAV\\Desktop\\player-reid\\tacticam_labels\n",
      "Saving crops to: C:\\Users\\ABHINAV\\Desktop\\player-reid\\Output\n",
      "Label files found in C:\\Users\\ABHINAV\\Desktop\\player-reid\\broadcast_labels: 0\n"
     ]
    },
    {
     "name": "stderr",
     "output_type": "stream",
     "text": [
      "Processing broadcast.mp4 labels: 0it [00:00, ?it/s]\n"
     ]
    },
    {
     "name": "stdout",
     "output_type": "stream",
     "text": [
      "✅ Done extracting crops to C:\\Users\\ABHINAV\\Desktop\\player-reid\\Output\\broadcast\n",
      "Label files found in C:\\Users\\ABHINAV\\Desktop\\player-reid\\tacticam_labels: 0\n"
     ]
    },
    {
     "name": "stderr",
     "output_type": "stream",
     "text": [
      "Processing tacticam.mp4 labels: 0it [00:00, ?it/s]"
     ]
    },
    {
     "name": "stdout",
     "output_type": "stream",
     "text": [
      "✅ Done extracting crops to C:\\Users\\ABHINAV\\Desktop\\player-reid\\Output\\tacticam\n"
     ]
    },
    {
     "name": "stderr",
     "output_type": "stream",
     "text": [
      "\n"
     ]
    }
   ],
   "source": [
    "import cv2\n",
    "from pathlib import Path\n",
    "import os\n",
    "from tqdm import tqdm\n",
    "\n",
    "def extract_crops_from_labels(label_folder, video_path, output_root):\n",
    "    label_files = sorted(label_folder.glob(\"*.txt\"))\n",
    "    print(f\"Label files found in {label_folder}: {len(label_files)}\")\n",
    "\n",
    "    cap = cv2.VideoCapture(str(video_path))\n",
    "    if not cap.isOpened():\n",
    "        print(\"❌ Failed to open video:\", video_path)\n",
    "        return\n",
    "\n",
    "    frame_cache = {}\n",
    "\n",
    "    for label_file in tqdm(label_files, desc=f\"Processing {video_path.name} labels\"):\n",
    "        with open(label_file, \"r\") as f:\n",
    "            lines = f.readlines()\n",
    "\n",
    "        for line in lines:\n",
    "            parts = line.strip().split()\n",
    "            if len(parts) != 6:\n",
    "                continue  # Skip malformed lines\n",
    "\n",
    "            frame_id = int(parts[0])\n",
    "            x_center, y_center, w, h = map(float, parts[1:5])\n",
    "            track_id = parts[5]\n",
    "\n",
    "            if frame_id not in frame_cache:\n",
    "                cap.set(cv2.CAP_PROP_POS_FRAMES, frame_id)\n",
    "                success, frame = cap.read()\n",
    "                if not success:\n",
    "                    print(f\"⚠️ Failed to read frame {frame_id}\")\n",
    "                    continue\n",
    "                frame_cache[frame_id] = frame\n",
    "            else:\n",
    "                frame = frame_cache[frame_id]\n",
    "\n",
    "            H, W = frame.shape[:2]\n",
    "\n",
    "            # Convert normalized YOLO box → pixel box\n",
    "            x_center *= W\n",
    "            y_center *= H\n",
    "            w *= W\n",
    "            h *= H\n",
    "\n",
    "            x1 = int(x_center - w / 2)\n",
    "            y1 = int(y_center - h / 2)\n",
    "            x2 = int(x_center + w / 2)\n",
    "            y2 = int(y_center + h / 2)\n",
    "\n",
    "            x1, y1 = max(0, x1), max(0, y1)\n",
    "            x2, y2 = min(W - 1, x2), min(H - 1, y2)\n",
    "\n",
    "            crop = frame[y1:y2, x1:x2]\n",
    "            if crop.size == 0:\n",
    "                continue\n",
    "\n",
    "            track_folder = output_root / f\"id_{track_id}\"\n",
    "            track_folder.mkdir(parents=True, exist_ok=True)\n",
    "\n",
    "            crop_filename = track_folder / f\"{frame_id}.jpg\"\n",
    "            cv2.imwrite(str(crop_filename), crop)\n",
    "\n",
    "    cap.release()\n",
    "    print(f\"✅ Done extracting crops to {output_root}\")\n",
    "\n",
    "\n",
    "# === Updated paths from user ===\n",
    "BROAD_TRACK_DIR = Path(r\"C:\\Users\\ABHINAV\\Desktop\\player-reid\\broadcast_labels\")\n",
    "TACTI_TRACK_DIR = Path(r\"C:\\Users\\ABHINAV\\Desktop\\player-reid\\tacticam_labels\")\n",
    "OUTPUT_DIR = Path(r\"C:\\Users\\ABHINAV\\Desktop\\player-reid\\Output\")\n",
    "\n",
    "BROAD_VIDEO_PATH = Path(r\"C:\\Users\\ABHINAV\\Desktop\\player-reid\\broadcast.mp4\")\n",
    "TACTI_VIDEO_PATH = Path(r\"C:\\Users\\ABHINAV\\Desktop\\player-reid\\tacticam.mp4\")\n",
    "\n",
    "# Print confirmation\n",
    "print(\"Broadcast Track source:\", BROAD_TRACK_DIR)\n",
    "print(\"Tacticam Track source:\", TACTI_TRACK_DIR)\n",
    "print(\"Saving crops to:\", OUTPUT_DIR)\n",
    "\n",
    "# === Run both ===\n",
    "extract_crops_from_labels(BROAD_TRACK_DIR, BROAD_VIDEO_PATH, OUTPUT_DIR / \"broadcast\")\n",
    "extract_crops_from_labels(TACTI_TRACK_DIR, TACTI_VIDEO_PATH, OUTPUT_DIR / \"tacticam\")\n"
   ]
  },
  {
   "cell_type": "code",
   "execution_count": null,
   "id": "9cc0c9a5-0013-4adb-ba84-be477e3f77ef",
   "metadata": {},
   "outputs": [],
   "source": [
    "extract_crops_from_yolo_labels(\n",
    "    frames_dir=r\"C:\\Users\\ABHINAV\\Desktop\\player-reid\\Frames\\broadcast\",\n",
    "    labels_dir=r\"C:\\Users\\ABHINAV\\Desktop\\player-reid\\Labels\\broadcast\",\n",
    "    output_dir=r\"C:\\Users\\ABHINAV\\Desktop\\player-reid\\Output\\broadcast\"\n",
    ")"
   ]
  }
 ],
 "metadata": {
  "kernelspec": {
   "display_name": "Python 3 (ipykernel)",
   "language": "python",
   "name": "python3"
  },
  "language_info": {
   "codemirror_mode": {
    "name": "ipython",
    "version": 3
   },
   "file_extension": ".py",
   "mimetype": "text/x-python",
   "name": "python",
   "nbconvert_exporter": "python",
   "pygments_lexer": "ipython3",
   "version": "3.10.4"
  }
 },
 "nbformat": 4,
 "nbformat_minor": 5
}
